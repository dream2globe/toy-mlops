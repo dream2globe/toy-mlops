{
 "cells": [
  {
   "cell_type": "code",
   "execution_count": 136,
   "metadata": {},
   "outputs": [],
   "source": [
    "import io\n",
    "import joblib\n",
    "import json\n",
    "from pathlib import Path\n",
    "from fastapi import FastAPI\n",
    "from pydantic import BaseModel\n",
    "\n",
    "url = \"http://192.168.0.2:9009/pred/\"\n",
    "msg = {\"sepal_length\":11, \"sepal_width\":1, \"petal_length\":1, \"petal_width\":1}\n",
    "res = requests.post(url, data=json.dumps(msg))"
   ]
  },
  {
   "cell_type": "code",
   "execution_count": 118,
   "metadata": {},
   "outputs": [
    {
     "data": {
      "text/plain": [
       "array([1])"
      ]
     },
     "execution_count": 118,
     "metadata": {},
     "output_type": "execute_result"
    }
   ],
   "source": [
    "jmsg = json.load(io.StringIO(\"\"\"{\"sepal_length\":11, \"sepal_width\":1, \"petal_length\":1, \"petal_width\":1}\"\"\"))\n",
    "\n",
    "# 변수\n",
    "current_max = 0\n",
    "best_acc_index = 0\n",
    "\n",
    "# 최고 성능 모델 찾기\n",
    "model_path = Path(\"/home/shyeon/workspace/python/toy-mlops/models\")\n",
    "model_files = list(model_path.glob(\"*.pkl\"))\n",
    "\n",
    "for i, f_name in enumerate(model_files):\n",
    "    acc = float(str(f_name)[:-4].split(\"_\")[-1])\n",
    "    current_max = max(acc, current_max)\n",
    "    best_acc_index = i\n",
    "\n",
    "# 모델 불러오기\n",
    "model = joblib.load(model_files[best_acc_index])\n",
    "x = [[v for _, v in jmsg.items()]]\n",
    "model.predict(x)"
   ]
  }
 ],
 "metadata": {
  "kernelspec": {
   "display_name": "Python 3",
   "language": "python",
   "name": "python3"
  },
  "language_info": {
   "codemirror_mode": {
    "name": "ipython",
    "version": 3
   },
   "file_extension": ".py",
   "mimetype": "text/x-python",
   "name": "python",
   "nbconvert_exporter": "python",
   "pygments_lexer": "ipython3",
   "version": "3.8.6"
  }
 },
 "nbformat": 4,
 "nbformat_minor": 4
}
